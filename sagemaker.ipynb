{
 "cells": [
  {
   "cell_type": "code",
   "execution_count": 62,
   "metadata": {},
   "outputs": [
    {
     "name": "stdout",
     "output_type": "stream",
     "text": [
      "Using bucket test-bucket-sagemaker1\n"
     ]
    }
   ],
   "source": [
    "import sagemaker\n",
    "from sklearn.model_selection import train_test_split\n",
    "import boto3\n",
    "import pandas as pd\n",
    "\n",
    "sm_boto3 = boto3.client(\"sagemaker\")\n",
    "sess = sagemaker.Session()\n",
    "region = sess.boto_session.region_name\n",
    "bucket = 'test-bucket-sagemaker1'\n",
    "print(\"Using bucket \" + bucket)"
   ]
  },
  {
   "cell_type": "code",
   "execution_count": 63,
   "metadata": {},
   "outputs": [],
   "source": [
    "df = pd.read_csv('gabung.csv', sep = ';')"
   ]
  },
  {
   "cell_type": "code",
   "execution_count": 64,
   "metadata": {},
   "outputs": [
    {
     "data": {
      "text/html": [
       "<div>\n",
       "<style scoped>\n",
       "    .dataframe tbody tr th:only-of-type {\n",
       "        vertical-align: middle;\n",
       "    }\n",
       "\n",
       "    .dataframe tbody tr th {\n",
       "        vertical-align: top;\n",
       "    }\n",
       "\n",
       "    .dataframe thead th {\n",
       "        text-align: right;\n",
       "    }\n",
       "</style>\n",
       "<table border=\"1\" class=\"dataframe\">\n",
       "  <thead>\n",
       "    <tr style=\"text-align: right;\">\n",
       "      <th></th>\n",
       "      <th>label</th>\n",
       "      <th>acc_x_avg</th>\n",
       "      <th>acc_y_avg</th>\n",
       "      <th>acc_z_avg</th>\n",
       "      <th>gyro_x_avg</th>\n",
       "      <th>gyro_y_avg</th>\n",
       "      <th>gyro_z_avg</th>\n",
       "      <th>acc_x_max</th>\n",
       "      <th>acc_y_max</th>\n",
       "      <th>acc_z_max</th>\n",
       "      <th>...</th>\n",
       "      <th>acc_z_min</th>\n",
       "      <th>gyro_x_min</th>\n",
       "      <th>gyro_y_min</th>\n",
       "      <th>gyro_z_min</th>\n",
       "      <th>acc_x_stdev</th>\n",
       "      <th>acc_y_stdev</th>\n",
       "      <th>acc_z_stdev</th>\n",
       "      <th>gyro_x_stdev</th>\n",
       "      <th>gyro_y_stdev</th>\n",
       "      <th>gyro_z_stdev</th>\n",
       "    </tr>\n",
       "  </thead>\n",
       "  <tbody>\n",
       "    <tr>\n",
       "      <th>0</th>\n",
       "      <td>0</td>\n",
       "      <td>3.74</td>\n",
       "      <td>-10.05</td>\n",
       "      <td>-1.11</td>\n",
       "      <td>-12.91</td>\n",
       "      <td>-6.17</td>\n",
       "      <td>109.61</td>\n",
       "      <td>11.50</td>\n",
       "      <td>0.58</td>\n",
       "      <td>5.79</td>\n",
       "      <td>...</td>\n",
       "      <td>-10.49</td>\n",
       "      <td>-57.71</td>\n",
       "      <td>-156.36</td>\n",
       "      <td>-198.35</td>\n",
       "      <td>4.93</td>\n",
       "      <td>5.70</td>\n",
       "      <td>3.91</td>\n",
       "      <td>37.25</td>\n",
       "      <td>73.38</td>\n",
       "      <td>200.26</td>\n",
       "    </tr>\n",
       "    <tr>\n",
       "      <th>1</th>\n",
       "      <td>0</td>\n",
       "      <td>-0.36</td>\n",
       "      <td>-11.82</td>\n",
       "      <td>-0.94</td>\n",
       "      <td>0.15</td>\n",
       "      <td>13.21</td>\n",
       "      <td>-98.90</td>\n",
       "      <td>16.23</td>\n",
       "      <td>-5.94</td>\n",
       "      <td>7.99</td>\n",
       "      <td>...</td>\n",
       "      <td>-6.26</td>\n",
       "      <td>-31.61</td>\n",
       "      <td>-214.63</td>\n",
       "      <td>-188.46</td>\n",
       "      <td>5.86</td>\n",
       "      <td>2.50</td>\n",
       "      <td>2.62</td>\n",
       "      <td>18.37</td>\n",
       "      <td>75.87</td>\n",
       "      <td>42.75</td>\n",
       "    </tr>\n",
       "    <tr>\n",
       "      <th>2</th>\n",
       "      <td>0</td>\n",
       "      <td>3.51</td>\n",
       "      <td>-10.22</td>\n",
       "      <td>-1.43</td>\n",
       "      <td>-9.29</td>\n",
       "      <td>-20.64</td>\n",
       "      <td>89.14</td>\n",
       "      <td>13.61</td>\n",
       "      <td>-0.08</td>\n",
       "      <td>5.01</td>\n",
       "      <td>...</td>\n",
       "      <td>-13.74</td>\n",
       "      <td>-67.03</td>\n",
       "      <td>-210.98</td>\n",
       "      <td>-197.78</td>\n",
       "      <td>5.37</td>\n",
       "      <td>5.05</td>\n",
       "      <td>3.90</td>\n",
       "      <td>39.03</td>\n",
       "      <td>85.05</td>\n",
       "      <td>192.06</td>\n",
       "    </tr>\n",
       "    <tr>\n",
       "      <th>3</th>\n",
       "      <td>0</td>\n",
       "      <td>0.48</td>\n",
       "      <td>-11.45</td>\n",
       "      <td>-1.03</td>\n",
       "      <td>2.04</td>\n",
       "      <td>30.77</td>\n",
       "      <td>-94.57</td>\n",
       "      <td>11.87</td>\n",
       "      <td>-6.23</td>\n",
       "      <td>9.90</td>\n",
       "      <td>...</td>\n",
       "      <td>-7.75</td>\n",
       "      <td>-29.04</td>\n",
       "      <td>-78.07</td>\n",
       "      <td>-185.17</td>\n",
       "      <td>4.72</td>\n",
       "      <td>2.14</td>\n",
       "      <td>2.85</td>\n",
       "      <td>17.41</td>\n",
       "      <td>49.28</td>\n",
       "      <td>39.85</td>\n",
       "    </tr>\n",
       "    <tr>\n",
       "      <th>4</th>\n",
       "      <td>0</td>\n",
       "      <td>3.06</td>\n",
       "      <td>-10.33</td>\n",
       "      <td>-1.32</td>\n",
       "      <td>-13.62</td>\n",
       "      <td>-17.40</td>\n",
       "      <td>90.27</td>\n",
       "      <td>12.95</td>\n",
       "      <td>-3.08</td>\n",
       "      <td>4.44</td>\n",
       "      <td>...</td>\n",
       "      <td>-11.38</td>\n",
       "      <td>-60.80</td>\n",
       "      <td>-184.22</td>\n",
       "      <td>-200.72</td>\n",
       "      <td>5.78</td>\n",
       "      <td>4.62</td>\n",
       "      <td>3.93</td>\n",
       "      <td>31.07</td>\n",
       "      <td>104.45</td>\n",
       "      <td>199.75</td>\n",
       "    </tr>\n",
       "  </tbody>\n",
       "</table>\n",
       "<p>5 rows × 25 columns</p>\n",
       "</div>"
      ],
      "text/plain": [
       "   label  acc_x_avg  acc_y_avg  acc_z_avg  gyro_x_avg  gyro_y_avg  gyro_z_avg  \\\n",
       "0      0       3.74     -10.05      -1.11      -12.91       -6.17      109.61   \n",
       "1      0      -0.36     -11.82      -0.94        0.15       13.21      -98.90   \n",
       "2      0       3.51     -10.22      -1.43       -9.29      -20.64       89.14   \n",
       "3      0       0.48     -11.45      -1.03        2.04       30.77      -94.57   \n",
       "4      0       3.06     -10.33      -1.32      -13.62      -17.40       90.27   \n",
       "\n",
       "   acc_x_max  acc_y_max  acc_z_max  ...  acc_z_min  gyro_x_min  gyro_y_min  \\\n",
       "0      11.50       0.58       5.79  ...     -10.49      -57.71     -156.36   \n",
       "1      16.23      -5.94       7.99  ...      -6.26      -31.61     -214.63   \n",
       "2      13.61      -0.08       5.01  ...     -13.74      -67.03     -210.98   \n",
       "3      11.87      -6.23       9.90  ...      -7.75      -29.04      -78.07   \n",
       "4      12.95      -3.08       4.44  ...     -11.38      -60.80     -184.22   \n",
       "\n",
       "   gyro_z_min  acc_x_stdev  acc_y_stdev  acc_z_stdev  gyro_x_stdev  \\\n",
       "0     -198.35         4.93         5.70         3.91         37.25   \n",
       "1     -188.46         5.86         2.50         2.62         18.37   \n",
       "2     -197.78         5.37         5.05         3.90         39.03   \n",
       "3     -185.17         4.72         2.14         2.85         17.41   \n",
       "4     -200.72         5.78         4.62         3.93         31.07   \n",
       "\n",
       "   gyro_y_stdev  gyro_z_stdev  \n",
       "0         73.38        200.26  \n",
       "1         75.87         42.75  \n",
       "2         85.05        192.06  \n",
       "3         49.28         39.85  \n",
       "4        104.45        199.75  \n",
       "\n",
       "[5 rows x 25 columns]"
      ]
     },
     "execution_count": 64,
     "metadata": {},
     "output_type": "execute_result"
    }
   ],
   "source": [
    "df.head()"
   ]
  },
  {
   "cell_type": "code",
   "execution_count": 65,
   "metadata": {},
   "outputs": [
    {
     "name": "stdout",
     "output_type": "stream",
     "text": [
      "Data X = (153, 24)\n",
      "Data y = (153,)\n"
     ]
    }
   ],
   "source": [
    "# Import train_test_split function\n",
    "from sklearn.preprocessing import StandardScaler\n",
    "# Pembagian dataframe label dan feature\n",
    "features = list(df.columns)\n",
    "label = features.pop(0)\n",
    "y = df[label]\n",
    "X = df[features]\n",
    "print(f\"Data X = {X.shape}\")\n",
    "print(f\"Data y = {y.shape}\")\n",
    "# Split dataset into training set and test set\n",
    "X_train, X_test, y_train, y_test = train_test_split(X, y, test_size=0.25, random_state=0)"
   ]
  },
  {
   "cell_type": "code",
   "execution_count": 51,
   "metadata": {},
   "outputs": [],
   "source": [
    "# Normalisasi Data\n",
    "scaler = StandardScaler()\n",
    "X_train = scaler.fit_transform(X_train)\n",
    "X_test = scaler.transform(X_test)"
   ]
  },
  {
   "cell_type": "code",
   "execution_count": 66,
   "metadata": {},
   "outputs": [],
   "source": [
    "testX = pd.DataFrame(X_test)\n",
    "trainX = pd.DataFrame(X_train)\n",
    "testX[label] = y_test\n",
    "trainX[label] = y_train"
   ]
  },
  {
   "cell_type": "code",
   "execution_count": 67,
   "metadata": {},
   "outputs": [],
   "source": [
    "trainX.to_csv(\"train-V-1.csv\", index = False)\n",
    "testX.to_csv(\"test-V-1.csv\", index = False)"
   ]
  },
  {
   "cell_type": "code",
   "execution_count": 68,
   "metadata": {},
   "outputs": [],
   "source": [
    "sk_prefix = \"sagemaker/tugasakhir/sklearncontainer\"\n",
    "trainpath = sess.upload_data(\n",
    "    path=\"train-V-1.csv\", bucket=bucket, key_prefix=sk_prefix\n",
    ")\n",
    "testpath = sess.upload_data(\n",
    "    path=\"test-V-1.csv\", bucket=bucket, key_prefix=sk_prefix\n",
    ")"
   ]
  },
  {
   "cell_type": "code",
   "execution_count": 70,
   "metadata": {},
   "outputs": [
    {
     "name": "stdout",
     "output_type": "stream",
     "text": [
      "Overwriting script.py\n"
     ]
    }
   ],
   "source": [
    "%%writefile script.py\n",
    "\n",
    "from sklearn import svm\n",
    "from sklearn.metrics import accuracy_score, classification_report, confusion_matrix, precision_score\n",
    "import sklearn\n",
    "import joblib\n",
    "import boto3\n",
    "import pathlib\n",
    "from io import StringIO\n",
    "import argparse\n",
    "import joblib\n",
    "import os\n",
    "import numpy as np\n",
    "import pandas as pd\n",
    "\n",
    "def model_fn(model_dir):\n",
    "  clf = joblib.load(os.path.join(model_dir, \"model.joblib\"))\n",
    "  return clf\n",
    "\n",
    "if __name__ == \"__main__\":\n",
    "\n",
    "  print(\"[INFO] Extracting arguments\")\n",
    "  parser = argparse.ArgumentParser()\n",
    "\n",
    "  parser.add_argument(\"--kernel\", type=str, default=\"rbf\")\n",
    "  parser.add_argument(\"--degree\", type=int, default=3)\n",
    "  parser.add_argument(\"--coef0\", type=float, default=0.0)\n",
    "\n",
    "  parser.add_argument(\"--model-dir\", type=str, default=os.environ.get(\"SM_MODEL_DIR\"))\n",
    "  parser.add_argument(\"--train\", type=str, default=os.environ.get(\"SM_CHANNEL_TRAIN\"))\n",
    "  parser.add_argument(\"--test\", type=str, default=os.environ.get(\"SM_CHANNEL_TEST\"))\n",
    "  parser.add_argument(\"--train-file\", type=str, default=\"train-V-1.csv\")\n",
    "  parser.add_argument(\"--test-file\", type=str, default=\"test-V-1.csv\")\n",
    "\n",
    "  args, _ = parser.parse_known_args()\n",
    "\n",
    "  print(\"SKLearn version: \", sklearn.__version__)\n",
    "  print(\"Joblib version: \", joblib.__version__)\n",
    " \n",
    "  print()\n",
    "  train_df = pd.read_csv(os.path.join(args.train, args.train_file))\n",
    "  test_df = pd.read_csv(os.path.join(args.test, args.test_file))\n",
    "\n",
    "  features = list(train_df.columns)\n",
    "  label = features.pop(-1)\n",
    "\n",
    "  print(\"Building training and testing datasets\")\n",
    "  print()\n",
    "  X_train = train_df[features]\n",
    "  X_test = test_df[features]\n",
    "  y_train = train_df[label]\n",
    "  y_test = test_df[label]\n",
    "\n",
    "  print(\"Training SVM model\")\n",
    "  print()\n",
    "  model = svm.SVC(kernel=args.kernel, degree=args.degree, coef0=args.coef0) \n",
    "  model.fit(X_train, y_train)\n",
    "  print()\n",
    "\n",
    "  model_path = os.path.join(args.model_dir, \"model.joblib\")\n",
    "  joblib.dump(model, model_path)\n",
    "  print(\"Model path: \" + model_path)\n",
    "  print()\n",
    "\n",
    "  y_pred_test = model.predict(X_test)\n",
    "  test_acc = accuracy_score(y_test, y_pred_test)\n",
    "  test_rep = classification_report(y_test, y_pred_test)\n",
    "\n",
    "  print()\n",
    "  print(\"Testing accuracy: \", test_acc)\n",
    "  print(\"Testing report: \")\n",
    "  print(test_rep)"
   ]
  },
  {
   "cell_type": "code",
   "execution_count": 71,
   "metadata": {},
   "outputs": [],
   "source": [
    "from sagemaker.sklearn.estimator import SKLearn\n",
    "\n",
    "FRAMEWORK_VERSION = \"0.23-1\"\n",
    "\n",
    "sklearn_estimator = SKLearn(\n",
    "    entry_point=\"script.py\",\n",
    "    role=\"arn:aws:iam::194936698984:role/service-role/AmazonSageMaker-ExecutionRole-20240226T134696\",\n",
    "    instance_count=1,\n",
    "    instance_type=\"ml.m5.xlarge\",\n",
    "    framework_version=FRAMEWORK_VERSION,\n",
    "    base_job_name=\"TestTA\",\n",
    "    hyperparameters={\n",
    "        \"kernel\": \"poly\",\n",
    "        \"degree\": 2,\n",
    "        \"coef0\": 0.88423,\n",
    "    },\n",
    "    use_spot_instances = True,\n",
    "    max_wait = 7200,\n",
    "    max_run = 3600\n",
    ")"
   ]
  },
  {
   "cell_type": "code",
   "execution_count": 72,
   "metadata": {},
   "outputs": [
    {
     "name": "stderr",
     "output_type": "stream",
     "text": [
      "INFO:sagemaker:Creating training-job with name: TestTA-2024-03-27-20-40-51-106\n"
     ]
    },
    {
     "name": "stdout",
     "output_type": "stream",
     "text": [
      "2024-03-27 20:41:08 Starting - Starting the training job...\n",
      "2024-03-27 20:41:23 Starting - Preparing the instances for training...\n",
      "2024-03-27 20:42:07 Downloading - Downloading input data...\n",
      "2024-03-27 20:42:37 Downloading - Downloading the training image..2024-03-27 20:42:58,112 sagemaker-containers INFO     Imported framework sagemaker_sklearn_container.training\n",
      "2024-03-27 20:42:58,115 sagemaker-training-toolkit INFO     No GPUs detected (normal if no gpus installed)\n",
      "2024-03-27 20:42:58,154 sagemaker_sklearn_container.training INFO     Invoking user training script.\n",
      "2024-03-27 20:42:58,307 sagemaker-training-toolkit INFO     No GPUs detected (normal if no gpus installed)\n",
      "2024-03-27 20:42:58,319 sagemaker-training-toolkit INFO     No GPUs detected (normal if no gpus installed)\n",
      "2024-03-27 20:42:58,331 sagemaker-training-toolkit INFO     No GPUs detected (normal if no gpus installed)\n",
      "2024-03-27 20:42:58,341 sagemaker-training-toolkit INFO     Invoking user script\n",
      "Training Env:\n",
      "{\n",
      "    \"additional_framework_parameters\": {},\n",
      "    \"channel_input_dirs\": {\n",
      "        \"test\": \"/opt/ml/input/data/test\",\n",
      "        \"train\": \"/opt/ml/input/data/train\"\n",
      "    },\n",
      "    \"current_host\": \"algo-1\",\n",
      "    \"framework_module\": \"sagemaker_sklearn_container.training:main\",\n",
      "    \"hosts\": [\n",
      "        \"algo-1\"\n",
      "    ],\n",
      "    \"hyperparameters\": {\n",
      "        \"coef0\": 0.88423,\n",
      "        \"degree\": 2,\n",
      "        \"kernel\": \"poly\"\n",
      "    },\n",
      "    \"input_config_dir\": \"/opt/ml/input/config\",\n",
      "    \"input_data_config\": {\n",
      "        \"test\": {\n",
      "            \"TrainingInputMode\": \"File\",\n",
      "            \"S3DistributionType\": \"FullyReplicated\",\n",
      "            \"RecordWrapperType\": \"None\"\n",
      "        },\n",
      "        \"train\": {\n",
      "            \"TrainingInputMode\": \"File\",\n",
      "            \"S3DistributionType\": \"FullyReplicated\",\n",
      "            \"RecordWrapperType\": \"None\"\n",
      "        }\n",
      "    },\n",
      "    \"input_dir\": \"/opt/ml/input\",\n",
      "    \"is_master\": true,\n",
      "    \"job_name\": \"TestTA-2024-03-27-20-40-51-106\",\n",
      "    \"log_level\": 20,\n",
      "    \"master_hostname\": \"algo-1\",\n",
      "    \"model_dir\": \"/opt/ml/model\",\n",
      "    \"module_dir\": \"s3://sagemaker-ap-southeast-2-194936698984/TestTA-2024-03-27-20-40-51-106/source/sourcedir.tar.gz\",\n",
      "    \"module_name\": \"script\",\n",
      "    \"network_interface_name\": \"eth0\",\n",
      "    \"num_cpus\": 4,\n",
      "    \"num_gpus\": 0,\n",
      "    \"output_data_dir\": \"/opt/ml/output/data\",\n",
      "    \"output_dir\": \"/opt/ml/output\",\n",
      "    \"output_intermediate_dir\": \"/opt/ml/output/intermediate\",\n",
      "    \"resource_config\": {\n",
      "        \"current_host\": \"algo-1\",\n",
      "        \"current_instance_type\": \"ml.m5.xlarge\",\n",
      "        \"current_group_name\": \"homogeneousCluster\",\n",
      "        \"hosts\": [\n",
      "            \"algo-1\"\n",
      "        ],\n",
      "        \"instance_groups\": [\n",
      "            {\n",
      "                \"instance_group_name\": \"homogeneousCluster\",\n",
      "                \"instance_type\": \"ml.m5.xlarge\",\n",
      "                \"hosts\": [\n",
      "                    \"algo-1\"\n",
      "                ]\n",
      "            }\n",
      "        ],\n",
      "        \"network_interface_name\": \"eth0\"\n",
      "    },\n",
      "    \"user_entry_point\": \"script.py\"\n",
      "}\n",
      "Environment variables:\n",
      "SM_HOSTS=[\"algo-1\"]\n",
      "SM_NETWORK_INTERFACE_NAME=eth0\n",
      "SM_HPS={\"coef0\":0.88423,\"degree\":2,\"kernel\":\"poly\"}\n",
      "SM_USER_ENTRY_POINT=script.py\n",
      "SM_FRAMEWORK_PARAMS={}\n",
      "SM_RESOURCE_CONFIG={\"current_group_name\":\"homogeneousCluster\",\"current_host\":\"algo-1\",\"current_instance_type\":\"ml.m5.xlarge\",\"hosts\":[\"algo-1\"],\"instance_groups\":[{\"hosts\":[\"algo-1\"],\"instance_group_name\":\"homogeneousCluster\",\"instance_type\":\"ml.m5.xlarge\"}],\"network_interface_name\":\"eth0\"}\n",
      "SM_INPUT_DATA_CONFIG={\"test\":{\"RecordWrapperType\":\"None\",\"S3DistributionType\":\"FullyReplicated\",\"TrainingInputMode\":\"File\"},\"train\":{\"RecordWrapperType\":\"None\",\"S3DistributionType\":\"FullyReplicated\",\"TrainingInputMode\":\"File\"}}\n",
      "SM_OUTPUT_DATA_DIR=/opt/ml/output/data\n",
      "SM_CHANNELS=[\"test\",\"train\"]\n",
      "SM_CURRENT_HOST=algo-1\n",
      "SM_MODULE_NAME=script\n",
      "SM_LOG_LEVEL=20\n",
      "SM_FRAMEWORK_MODULE=sagemaker_sklearn_container.training:main\n",
      "SM_INPUT_DIR=/opt/ml/input\n",
      "SM_INPUT_CONFIG_DIR=/opt/ml/input/config\n",
      "SM_OUTPUT_DIR=/opt/ml/output\n",
      "SM_NUM_CPUS=4\n",
      "SM_NUM_GPUS=0\n",
      "SM_MODEL_DIR=/opt/ml/model\n",
      "SM_MODULE_DIR=s3://sagemaker-ap-southeast-2-194936698984/TestTA-2024-03-27-20-40-51-106/source/sourcedir.tar.gz\n",
      "SM_TRAINING_ENV={\"additional_framework_parameters\":{},\"channel_input_dirs\":{\"test\":\"/opt/ml/input/data/test\",\"train\":\"/opt/ml/input/data/train\"},\"current_host\":\"algo-1\",\"framework_module\":\"sagemaker_sklearn_container.training:main\",\"hosts\":[\"algo-1\"],\"hyperparameters\":{\"coef0\":0.88423,\"degree\":2,\"kernel\":\"poly\"},\"input_config_dir\":\"/opt/ml/input/config\",\"input_data_config\":{\"test\":{\"RecordWrapperType\":\"None\",\"S3DistributionType\":\"FullyReplicated\",\"TrainingInputMode\":\"File\"},\"train\":{\"RecordWrapperType\":\"None\",\"S3DistributionType\":\"FullyReplicated\",\"TrainingInputMode\":\"File\"}},\"input_dir\":\"/opt/ml/input\",\"is_master\":true,\"job_name\":\"TestTA-2024-03-27-20-40-51-106\",\"log_level\":20,\"master_hostname\":\"algo-1\",\"model_dir\":\"/opt/ml/model\",\"module_dir\":\"s3://sagemaker-ap-southeast-2-194936698984/TestTA-2024-03-27-20-40-51-106/source/sourcedir.tar.gz\",\"module_name\":\"script\",\"network_interface_name\":\"eth0\",\"num_cpus\":4,\"num_gpus\":0,\"output_data_dir\":\"/opt/ml/output/data\",\"output_dir\":\"/opt/ml/output\",\"output_intermediate_dir\":\"/opt/ml/output/intermediate\",\"resource_config\":{\"current_group_name\":\"homogeneousCluster\",\"current_host\":\"algo-1\",\"current_instance_type\":\"ml.m5.xlarge\",\"hosts\":[\"algo-1\"],\"instance_groups\":[{\"hosts\":[\"algo-1\"],\"instance_group_name\":\"homogeneousCluster\",\"instance_type\":\"ml.m5.xlarge\"}],\"network_interface_name\":\"eth0\"},\"user_entry_point\":\"script.py\"}\n",
      "SM_USER_ARGS=[\"--coef0\",\"0.88423\",\"--degree\",\"2\",\"--kernel\",\"poly\"]\n",
      "SM_OUTPUT_INTERMEDIATE_DIR=/opt/ml/output/intermediate\n",
      "SM_CHANNEL_TEST=/opt/ml/input/data/test\n",
      "SM_CHANNEL_TRAIN=/opt/ml/input/data/train\n",
      "SM_HP_COEF0=0.88423\n",
      "SM_HP_DEGREE=2\n",
      "SM_HP_KERNEL=poly\n",
      "PYTHONPATH=/opt/ml/code:/miniconda3/bin:/miniconda3/lib/python37.zip:/miniconda3/lib/python3.7:/miniconda3/lib/python3.7/lib-dynload:/miniconda3/lib/python3.7/site-packages\n",
      "Invoking script with the following command:\n",
      "/miniconda3/bin/python script.py --coef0 0.88423 --degree 2 --kernel poly\n",
      "[INFO] Extracting arguments\n",
      "SKLearn version:  0.23.2\n",
      "Joblib version:  1.2.0\n",
      "Building training and testing datasets\n",
      "Training SVM model\n",
      "Model path: /opt/ml/model/model.joblib\n",
      "Testing accuracy:  0.48717948717948717\n",
      "Testing report: \n",
      "              precision    recall  f1-score   support\n",
      "           0       0.43      0.91      0.59        11\n",
      "           1       0.50      0.19      0.27        16\n",
      "           2       0.60      0.50      0.55        12\n",
      "    accuracy                           0.49        39\n",
      "   macro avg       0.51      0.53      0.47        39\n",
      "weighted avg       0.51      0.49      0.45        39\n",
      "2024-03-27 20:42:59,360 sagemaker-containers INFO     Reporting training SUCCESS\n",
      "\n",
      "2024-03-27 20:43:13 Training - Training image download completed. Training in progress.\n",
      "2024-03-27 20:43:13 Uploading - Uploading generated training model\n",
      "2024-03-27 20:43:13 Completed - Training job completed\n",
      "Training seconds: 66\n",
      "Billable seconds: 26\n",
      "Managed Spot Training savings: 60.6%\n"
     ]
    }
   ],
   "source": [
    "sklearn_estimator.fit({\"train\": trainpath, \"test\": testpath}, wait=True)"
   ]
  },
  {
   "cell_type": "code",
   "execution_count": 78,
   "metadata": {},
   "outputs": [
    {
     "name": "stdout",
     "output_type": "stream",
     "text": [
      "\n",
      "2024-03-27 20:43:13 Starting - Preparing the instances for training\n",
      "2024-03-27 20:43:13 Downloading - Downloading the training image\n",
      "2024-03-27 20:43:13 Training - Training image download completed. Training in progress.\n",
      "2024-03-27 20:43:13 Uploading - Uploading generated training model\n",
      "2024-03-27 20:43:13 Completed - Training job completed\n",
      "Model artifact persisted at s3://sagemaker-ap-southeast-2-194936698984/TestTA-2024-03-27-20-40-51-106/output/model.tar.gz\n"
     ]
    }
   ],
   "source": [
    "sklearn_estimator.latest_training_job.wait(logs=\"None\")\n",
    "artifact = sm_boto3.describe_training_job(\n",
    "    TrainingJobName=sklearn_estimator.latest_training_job.name\n",
    ")[\"ModelArtifacts\"][\"S3ModelArtifacts\"]\n",
    "\n",
    "print(\"Model artifact persisted at \" + artifact)"
   ]
  },
  {
   "cell_type": "code",
   "execution_count": 79,
   "metadata": {},
   "outputs": [],
   "source": [
    "from sagemaker.sklearn.model import SKLearnModel\n",
    "from time import gmtime, strftime\n",
    "\n",
    "model_name = \"Custom-model-\" + strftime(\"%Y-%m-%d-%H-%M-%S\", gmtime())\n",
    "model = SKLearnModel(\n",
    "    name=model_name,\n",
    "    model_data=artifact,\n",
    "    role=\"arn:aws:iam::194936698984:role/service-role/AmazonSageMaker-ExecutionRole-20240226T134696\",\n",
    "    entry_point=\"script.py\",\n",
    "    framework_version=FRAMEWORK_VERSION,\n",
    ")"
   ]
  },
  {
   "cell_type": "code",
   "execution_count": 80,
   "metadata": {},
   "outputs": [
    {
     "data": {
      "text/plain": [
       "<sagemaker.sklearn.model.SKLearnModel at 0x2bfede0b400>"
      ]
     },
     "execution_count": 80,
     "metadata": {},
     "output_type": "execute_result"
    }
   ],
   "source": [
    "model"
   ]
  },
  {
   "cell_type": "code",
   "execution_count": 81,
   "metadata": {},
   "outputs": [
    {
     "name": "stdout",
     "output_type": "stream",
     "text": [
      "EndpointName=Custom-model-2024-03-27-20-50-19\n"
     ]
    },
    {
     "name": "stderr",
     "output_type": "stream",
     "text": [
      "INFO:sagemaker:Creating model with name: Custom-model-2024-03-27-20-50-13\n",
      "INFO:sagemaker:Creating endpoint-config with name Custom-model-2024-03-27-20-50-19\n",
      "INFO:sagemaker:Creating endpoint with name Custom-model-2024-03-27-20-50-19\n"
     ]
    },
    {
     "name": "stdout",
     "output_type": "stream",
     "text": [
      "-----!"
     ]
    }
   ],
   "source": [
    "endpoint_name = \"Custom-model-\" + strftime(\"%Y-%m-%d-%H-%M-%S\", gmtime())\n",
    "print(\"EndpointName={}\".format(endpoint_name))\n",
    "\n",
    "predictor = model.deploy(\n",
    "    initial_instance_count=1,\n",
    "    instance_type=\"ml.m4.xlarge\",\n",
    "    endpoint_name=endpoint_name,\n",
    ")"
   ]
  },
  {
   "cell_type": "code",
   "execution_count": 82,
   "metadata": {},
   "outputs": [
    {
     "data": {
      "text/plain": [
       "[[4.46,\n",
       "  -9.39,\n",
       "  -0.85,\n",
       "  -24.84,\n",
       "  -17.81,\n",
       "  131.27,\n",
       "  12.53,\n",
       "  0.71,\n",
       "  5.71,\n",
       "  28.05,\n",
       "  166.85,\n",
       "  376.41,\n",
       "  -6.1,\n",
       "  -17.69,\n",
       "  -10.3,\n",
       "  -66.05,\n",
       "  -251.25,\n",
       "  -183.23,\n",
       "  5.01,\n",
       "  4.59,\n",
       "  3.7,\n",
       "  27.81,\n",
       "  101.1,\n",
       "  199.86],\n",
       " [1.67,\n",
       "  -10.83,\n",
       "  -1.75,\n",
       "  3.82,\n",
       "  29.94,\n",
       "  -96.3,\n",
       "  29.46,\n",
       "  1.18,\n",
       "  1.1,\n",
       "  41.89,\n",
       "  126.09,\n",
       "  36.24,\n",
       "  -14.6,\n",
       "  -18.55,\n",
       "  -7.58,\n",
       "  -20.45,\n",
       "  -267.82,\n",
       "  -272.08,\n",
       "  10.69,\n",
       "  4.89,\n",
       "  2.14,\n",
       "  17.3,\n",
       "  86.73,\n",
       "  99.92]]"
      ]
     },
     "execution_count": 82,
     "metadata": {},
     "output_type": "execute_result"
    }
   ],
   "source": [
    "testX[features][0:2].values.tolist()"
   ]
  },
  {
   "cell_type": "code",
   "execution_count": 83,
   "metadata": {},
   "outputs": [
    {
     "name": "stdout",
     "output_type": "stream",
     "text": [
      "[0 2]\n"
     ]
    }
   ],
   "source": [
    "print(predictor.predict(testX[features][0:2].values.tolist()))"
   ]
  },
  {
   "cell_type": "code",
   "execution_count": 84,
   "metadata": {},
   "outputs": [
    {
     "name": "stdout",
     "output_type": "stream",
     "text": [
      "[0, 2]\n"
     ]
    }
   ],
   "source": [
    "print((testX[label][0:2].values.tolist()))"
   ]
  },
  {
   "cell_type": "code",
   "execution_count": 85,
   "metadata": {},
   "outputs": [
    {
     "data": {
      "text/plain": [
       "{'ResponseMetadata': {'RequestId': 'cccc7a04-3f88-4809-b1f4-80b7484eeeb7',\n",
       "  'HTTPStatusCode': 200,\n",
       "  'HTTPHeaders': {'x-amzn-requestid': 'cccc7a04-3f88-4809-b1f4-80b7484eeeb7',\n",
       "   'content-type': 'application/x-amz-json-1.1',\n",
       "   'date': 'Wed, 27 Mar 2024 20:57:28 GMT',\n",
       "   'content-length': '0'},\n",
       "  'RetryAttempts': 0}}"
      ]
     },
     "execution_count": 85,
     "metadata": {},
     "output_type": "execute_result"
    }
   ],
   "source": [
    "sm_boto3.delete_endpoint(EndpointName=endpoint_name)"
   ]
  }
 ],
 "metadata": {
  "kernelspec": {
   "display_name": "Python 3.8.19 (conda)",
   "language": "python",
   "name": "python3"
  },
  "language_info": {
   "codemirror_mode": {
    "name": "ipython",
    "version": 3
   },
   "file_extension": ".py",
   "mimetype": "text/x-python",
   "name": "python",
   "nbconvert_exporter": "python",
   "pygments_lexer": "ipython3",
   "version": "3.8.19"
  },
  "orig_nbformat": 4,
  "vscode": {
   "interpreter": {
    "hash": "29911dc65eab1f39d8ea6b500c1f0148876d501d90b4dbad5158ed9f6ff440dd"
   }
  }
 },
 "nbformat": 4,
 "nbformat_minor": 2
}
